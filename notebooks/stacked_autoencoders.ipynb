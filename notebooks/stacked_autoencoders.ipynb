{
 "cells": [
  {
   "cell_type": "code",
   "execution_count": 7,
   "metadata": {},
   "outputs": [],
   "source": [
    "import numpy as np\n",
    "import matplotlib.pyplot as plt\n",
    "import tensorflow as tf\n",
    "%matplotlib inline\n",
    "\n",
    "from tensorflow.examples.tutorials.mnist import input_data"
   ]
  },
  {
   "cell_type": "code",
   "execution_count": 8,
   "metadata": {},
   "outputs": [
    {
     "name": "stdout",
     "output_type": "stream",
     "text": [
      "Extracting ../03-Convolutional-Neural-Networks/MNIST_data/train-images-idx3-ubyte.gz\n",
      "Extracting ../03-Convolutional-Neural-Networks/MNIST_data/train-labels-idx1-ubyte.gz\n",
      "Extracting ../03-Convolutional-Neural-Networks/MNIST_data/t10k-images-idx3-ubyte.gz\n",
      "Extracting ../03-Convolutional-Neural-Networks/MNIST_data/t10k-labels-idx1-ubyte.gz\n"
     ]
    }
   ],
   "source": [
    "old_v = tf.logging.get_verbosity()\n",
    "tf.logging.set_verbosity(tf.logging.ERROR)\n",
    "mnist = input_data.read_data_sets(\"../03-Convolutional-Neural-Networks/MNIST_data/\", one_hot=True)"
   ]
  },
  {
   "cell_type": "code",
   "execution_count": 9,
   "metadata": {},
   "outputs": [],
   "source": [
    "tf.reset_default_graph()\n",
    "\n",
    "num_inputs = 784\n",
    "neurons_hidden_layer1 = 392\n",
    "neurons_hidden_layer2 = 196\n",
    "neurons_hidden_layer3 = neurons_hidden_layer1\n",
    "num_outputs = num_inputs\n",
    "learning_rate = 0.01\n",
    "\n",
    "activation_function = tf.nn.relu\n",
    "X = tf.placeholder(tf.float32, shape=[None, num_inputs])\n",
    "initializer = tf.variance_scaling_initializer()\n",
    "\n",
    "w1 = tf.Variable(initializer([num_inputs, neurons_hidden_layer1]), dtype=tf.float32)\n",
    "w2 = tf.Variable(initializer([neurons_hidden_layer1, neurons_hidden_layer2]), dtype=tf.float32)\n",
    "w3 = tf.Variable(initializer([neurons_hidden_layer2, neurons_hidden_layer3]), dtype=tf.float32)\n",
    "w4 = tf.Variable(initializer([neurons_hidden_layer3, num_outputs]), dtype=tf.float32)\n",
    "\n",
    "b1 = tf.Variable(tf.zeros(neurons_hidden_layer1))\n",
    "b2 = tf.Variable(tf.zeros(neurons_hidden_layer2))\n",
    "b3 = tf.Variable(tf.zeros(neurons_hidden_layer3))\n",
    "b4 = tf.Variable(tf.zeros(num_outputs))\n",
    "\n",
    "hidden_layer1 = activation_function(tf.matmul(X,w1)+b1)\n",
    "hidden_layer2 = activation_function(tf.matmul(hidden_layer1,w2)+b2)\n",
    "hidden_layer3 = activation_function(tf.matmul(hidden_layer2,w3)+b3)\n",
    "output_layer = activation_function(tf.matmul(hidden_layer3,w4)+b4)"
   ]
  },
  {
   "cell_type": "code",
   "execution_count": 10,
   "metadata": {},
   "outputs": [
    {
     "name": "stdout",
     "output_type": "stream",
     "text": [
      "EPOCH: 0 LOSS: 0.03249271214008331\n",
      "EPOCH: 1 LOSS: 0.026959067210555077\n",
      "EPOCH: 2 LOSS: 0.028669705614447594\n",
      "EPOCH: 3 LOSS: 0.02997642010450363\n",
      "EPOCH: 4 LOSS: 0.030343953520059586\n",
      "EPOCH: 5 LOSS: 0.027860887348651886\n",
      "EPOCH: 6 LOSS: 0.027271226048469543\n",
      "EPOCH: 7 LOSS: 0.028920620679855347\n",
      "EPOCH: 8 LOSS: 0.027606477960944176\n",
      "EPOCH: 9 LOSS: 0.02736957184970379\n"
     ]
    }
   ],
   "source": [
    "loss = tf.reduce_mean(tf.square(output_layer - X))\n",
    "optimizer = tf.train.AdamOptimizer(learning_rate)\n",
    "train = optimizer.minimize(loss)\n",
    "init = tf.global_variables_initializer()\n",
    "saver = tf.train.Saver()\n",
    "\n",
    "num_epochs = 10\n",
    "batch_size = 150\n",
    "\n",
    "with tf.Session() as sess:\n",
    "    sess.run(init)\n",
    "    \n",
    "    for epoch in range(num_epochs):\n",
    "        num_batches = mnist.train.num_examples // batch_size\n",
    "        \n",
    "        for iteration in range(num_batches):\n",
    "            x_batch, y_batch = mnist.train.next_batch(batch_size)\n",
    "            sess.run(train, feed_dict = {X:x_batch})\n",
    "            \n",
    "        training_loss = loss.eval(feed_dict={X:x_batch})\n",
    "        print(\"EPOCH: {} LOSS: {}\".format(epoch,training_loss))\n",
    "        \n",
    "    saver.save(sess,'./checkpoints/stacked_autoencoder.ckpt')"
   ]
  },
  {
   "cell_type": "code",
   "execution_count": null,
   "metadata": {},
   "outputs": [],
   "source": []
  }
 ],
 "metadata": {
  "kernelspec": {
   "display_name": "Python 3",
   "language": "python",
   "name": "python3"
  },
  "language_info": {
   "codemirror_mode": {
    "name": "ipython",
    "version": 3
   },
   "file_extension": ".py",
   "mimetype": "text/x-python",
   "name": "python",
   "nbconvert_exporter": "python",
   "pygments_lexer": "ipython3",
   "version": "3.5.5"
  }
 },
 "nbformat": 4,
 "nbformat_minor": 2
}
