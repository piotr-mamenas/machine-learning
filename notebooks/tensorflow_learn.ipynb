{
 "cells": [
  {
   "cell_type": "code",
   "execution_count": 33,
   "metadata": {},
   "outputs": [],
   "source": [
    "import numpy as np\n",
    "import pandas as pd\n",
    "import matplotlib.pyplot as plt\n",
    "from sklearn.datasets import make_blobs\n",
    "\n",
    "%matplotlib inline"
   ]
  },
  {
   "cell_type": "code",
   "execution_count": 10,
   "metadata": {},
   "outputs": [],
   "source": [
    "class Operation():\n",
    "    def __init__(self, input_nodes):\n",
    "        \n",
    "        self.input_nodes = input_nodes\n",
    "        self.output_nodes = []\n",
    "        \n",
    "        for node in input_nodes:\n",
    "            node.output_nodes.append(self)\n",
    "            \n",
    "        _default_graph.operations.append(self)\n",
    "            \n",
    "    def computer(self):\n",
    "        pass\n",
    "    \n",
    "class multiply(Operation):\n",
    "    def __init__(self, loperand, roperand):\n",
    "        super().__init__([loperand, roperand])\n",
    "        \n",
    "    def compute(self, x, y):\n",
    "        self.inputs = [x, y]\n",
    "        return x * y\n",
    "    \n",
    "class add(Operation):\n",
    "    def __init__(self, loperand, roperand):\n",
    "        super().__init__([loperand, roperand])\n",
    "        \n",
    "    def compute(self, x, y):\n",
    "        self.inputs = [x, y]\n",
    "        return x + y\n",
    "    \n",
    "class matmul(Operation):\n",
    "    def __init__(self, loperand, roperand):\n",
    "        super().__init__([loperand, roperand])\n",
    "        \n",
    "    def compute(self, x, y):\n",
    "        self.inputs = [x, y]\n",
    "        return x.dot(y)"
   ]
  },
  {
   "cell_type": "code",
   "execution_count": 17,
   "metadata": {},
   "outputs": [],
   "source": [
    "class Placeholder():\n",
    "    def __init__(self):\n",
    "        self.output_nodes = []\n",
    "        _default_graph.placeholders.append(self)\n",
    "        \n",
    "class Variable():\n",
    "    def __init__(self,initial_value=None):\n",
    "        self.value = initial_value\n",
    "        self.output_nodes = []\n",
    "        \n",
    "        _default_graph.variables.append(self)\n",
    "        \n",
    "class Graph():\n",
    "    def __init__(self):\n",
    "        self.operations = []\n",
    "        self.placeholders = []\n",
    "        self.variables = []\n",
    "        \n",
    "    def set_as_default(self):\n",
    "        global _default_graph\n",
    "        _default_graph = self"
   ]
  },
  {
   "cell_type": "code",
   "execution_count": 27,
   "metadata": {},
   "outputs": [],
   "source": [
    "g = Graph()\n",
    "g.set_as_default()\n",
    "\n",
    "A = Variable(10)\n",
    "b = Variable(1)\n",
    "x = Placeholder()\n",
    "\n",
    "y = multiply(A,x)\n",
    "z = add(y,b)\n",
    "\n",
    "def traverse_postorder(operation):\n",
    "    nodes_postorder = []\n",
    "    def recurse(node):\n",
    "        if isinstance(node, Operation):\n",
    "            for input_node in node.input_nodes:\n",
    "                recurse(input_node)\n",
    "        nodes_postorder.append(node)\n",
    "        \n",
    "    recurse(operation)\n",
    "    return nodes_postorder\n",
    "\n",
    "class Session():\n",
    "    def run(self, operation, feed_dict={}):\n",
    "        nodes_postorder = traverse_postorder(operation)\n",
    "        for node in nodes_postorder:\n",
    "            \n",
    "            if type(node) == Placeholder:\n",
    "                node.output = feed_dict[node]\n",
    "                \n",
    "            elif type(node) == Variable:\n",
    "                node.output = node.value\n",
    "                \n",
    "            else:\n",
    "                node.inputs = [input_node.output for input_node in node.input_nodes]\n",
    "                node.output = node.compute(*node.inputs)\n",
    "                \n",
    "            if type(node.output) == list:\n",
    "                node.output = np.array(node.output)\n",
    "                \n",
    "        return operation.output"
   ]
  },
  {
   "cell_type": "code",
   "execution_count": 28,
   "metadata": {},
   "outputs": [
    {
     "name": "stdout",
     "output_type": "stream",
     "text": [
      "101\n"
     ]
    }
   ],
   "source": [
    "sess = Session()\n",
    "result = sess.run(operation=z,feed_dict={x:10})\n",
    "print(result)"
   ]
  },
  {
   "cell_type": "code",
   "execution_count": 31,
   "metadata": {},
   "outputs": [
    {
     "data": {
      "text/plain": [
       "array([[101, 201],\n",
       "       [301, 401]])"
      ]
     },
     "execution_count": 31,
     "metadata": {},
     "output_type": "execute_result"
    }
   ],
   "source": [
    "g = Graph()\n",
    "\n",
    "g.set_as_default()\n",
    "\n",
    "A = Variable([[10,20],[30,40]])\n",
    "b = Variable([1,1])\n",
    "x = Placeholder()\n",
    "\n",
    "y = matmul(A,x)\n",
    "z = add(y,b)\n",
    "\n",
    "sess = Session()\n",
    "sess.run(operation=z, feed_dict={x:10})"
   ]
  },
  {
   "cell_type": "code",
   "execution_count": 32,
   "metadata": {},
   "outputs": [
    {
     "data": {
      "text/plain": [
       "[<matplotlib.lines.Line2D at 0x2257f6e2dd8>]"
      ]
     },
     "execution_count": 32,
     "metadata": {},
     "output_type": "execute_result"
    },
    {
     "data": {
      "image/png": "[encoded data removed]",
      "text/plain": [
       "<matplotlib.figure.Figure at 0x2257f3fa1d0>"
      ]
     },
     "metadata": {},
     "output_type": "display_data"
    }
   ],
   "source": [
    "def sigmoid(z):\n",
    "    return 1 / (1 + np.exp(-z))\n",
    "\n",
    "sample_z = np.linspace(-10,10,100)\n",
    "sample_a = sigmoid(sample_z)\n",
    "plt.plot(sample_z, sample_a)"
   ]
  },
  {
   "cell_type": "code",
   "execution_count": 36,
   "metadata": {},
   "outputs": [
    {
     "name": "stdout",
     "output_type": "stream",
     "text": [
      "(array([[ 3.04545118,  1.37379466],\n",
      "       [ 4.9625974 ,  1.14593874],\n",
      "       [ 4.66438901,  2.47116798],\n",
      "       [-3.57150134,  9.48787856],\n",
      "       [ 4.9208707 ,  1.35047016],\n",
      "       [ 6.78382293,  2.60708871],\n",
      "       [ 4.75339618,  2.63530036],\n",
      "       [ 4.16493353,  1.31984045],\n",
      "       [-2.95571258,  9.87068492],\n",
      "       [ 5.49753846,  1.81323115],\n",
      "       [-2.44896741, 11.47752824],\n",
      "       [ 5.53947871,  2.2804692 ],\n",
      "       [-1.10640331,  7.61243507],\n",
      "       [ 5.18697622,  1.77097703],\n",
      "       [ 1.3986115 ,  0.94878204],\n",
      "       [-0.64342311,  9.48811905],\n",
      "       [ 4.86397132,  1.98576208],\n",
      "       [ 3.63386145,  0.75898107],\n",
      "       [ 4.15451529,  2.05504382],\n",
      "       [ 3.9095122 ,  2.18962827],\n",
      "       [ 5.32183181,  1.66290293],\n",
      "       [ 5.1549141 ,  2.48695563],\n",
      "       [-1.04354885,  8.78850983],\n",
      "       [ 3.81088383,  1.41298864],\n",
      "       [-2.18511365,  8.62920385],\n",
      "       [-3.05358035,  9.12520872],\n",
      "       [ 5.14486612,  2.83892488],\n",
      "       [-1.68665271,  7.79344248],\n",
      "       [ 3.74146416,  2.46508886],\n",
      "       [-1.6966718 , 10.37052616],\n",
      "       [-2.54502366, 10.57892978],\n",
      "       [ 5.80304259,  1.98340274],\n",
      "       [-3.49973395,  8.4479884 ],\n",
      "       [-2.1475616 ,  8.36916637],\n",
      "       [-1.69568041,  7.78342181],\n",
      "       [ 4.83893853,  1.37295281],\n",
      "       [-1.36637481,  9.76621916],\n",
      "       [ 6.22589565,  0.73535419],\n",
      "       [-2.42215055,  8.71527878],\n",
      "       [ 3.8473581 ,  1.85843324],\n",
      "       [-1.03130358,  8.49601591],\n",
      "       [ 5.05281029,  1.40944513],\n",
      "       [ 4.62763206,  1.07591531],\n",
      "       [ 4.99689432,  1.28026009],\n",
      "       [-2.49619573, 10.46782021],\n",
      "       [ 3.81438164,  1.65178384],\n",
      "       [-2.15141026,  9.57507065],\n",
      "       [-3.31769123,  8.51252908],\n",
      "       [-2.24931483,  9.796109  ],\n",
      "       [ 5.61499857,  1.8261123 ],\n",
      "       [ 2.51598311,  1.44741466],\n",
      "       [-3.39305506,  9.16801123],\n",
      "       [-2.62484591,  8.71318243],\n",
      "       [-3.10983631,  8.72259238],\n",
      "       [-1.42614638, 10.06808818],\n",
      "       [ 3.71294836,  1.91364433],\n",
      "       [-2.41212007,  9.98293112],\n",
      "       [-2.21612515,  8.29993471],\n",
      "       [ 4.16884053,  2.20521962],\n",
      "       [ 3.65837019,  2.43527316],\n",
      "       [ 4.43175659,  1.48016875],\n",
      "       [ 3.88074617,  2.12356347],\n",
      "       [ 4.73755493,  1.2001599 ],\n",
      "       [-2.44166942,  7.58953794],\n",
      "       [ 4.52533899,  3.210986  ],\n",
      "       [-4.05986105,  9.0828491 ],\n",
      "       [-2.52269485,  7.9565752 ],\n",
      "       [ 5.26399865,  2.60151519],\n",
      "       [-3.83738367,  9.21114736],\n",
      "       [-2.16557933,  7.25124597],\n",
      "       [ 5.15922535,  3.5059086 ],\n",
      "       [-3.52202874,  9.32853346],\n",
      "       [-1.88353028,  8.15712857],\n",
      "       [-1.71816568,  8.10489867],\n",
      "       [ 6.08115213,  0.53730753],\n",
      "       [-2.77385446, 11.73445529],\n",
      "       [-0.92998481,  9.78172086],\n",
      "       [ 3.26220947,  1.03534464],\n",
      "       [-2.17793419,  9.98983126],\n",
      "       [-3.11090424, 10.86656431],\n",
      "       [ 3.37899488,  2.89103163],\n",
      "       [ 5.38717244,  2.58353995],\n",
      "       [ 5.46529519,  2.78667932],\n",
      "       [ 5.94535764,  1.99417353],\n",
      "       [ 4.38731068,  0.7253865 ],\n",
      "       [ 6.9545374 ,  0.10590449],\n",
      "       [-5.12894273,  9.83618863],\n",
      "       [ 5.90678999,  1.26550022],\n",
      "       [ 3.81765844,  2.2168569 ],\n",
      "       [ 3.80015699,  1.37377704],\n",
      "       [-2.50408417,  8.77969899],\n",
      "       [-2.40954626,  8.51081047],\n",
      "       [-2.70155859,  9.31583347],\n",
      "       [-2.23250682,  9.84146938],\n",
      "       [ 4.88484541,  1.46622651],\n",
      "       [-1.4781981 ,  9.94556625],\n",
      "       [-1.98725606,  9.3112708 ],\n",
      "       [ 6.76203503,  3.00563494],\n",
      "       [-3.21125072,  8.68662398],\n",
      "       [ 3.86705362,  1.73635108],\n",
      "       [ 3.31964563,  3.80462845],\n",
      "       [-3.92456837,  8.59364081],\n",
      "       [ 6.77291221,  0.02108188],\n",
      "       [-2.90130578,  7.55077118],\n",
      "       [-3.58009012,  9.49675854],\n",
      "       [ 4.62086263,  0.97064032],\n",
      "       [ 5.5938806 ,  2.62456094],\n",
      "       [ 2.61473625,  2.159624  ],\n",
      "       [ 5.59030267,  1.39626603],\n",
      "       [-4.11668086,  9.19891999],\n",
      "       [ 5.45274096,  2.60279853],\n",
      "       [-2.96983639, 10.07140835],\n",
      "       [ 3.43958243,  1.63866845],\n",
      "       [-1.59379551,  9.34303724],\n",
      "       [ 6.79306129,  1.20582212],\n",
      "       [ 3.82165815,  4.06555696],\n",
      "       [-2.26723535,  7.10100588],\n",
      "       [-3.98771961,  8.29444192],\n",
      "       [-1.77073104,  9.18565441],\n",
      "       [ 5.91754373,  1.3815983 ],\n",
      "       [-1.92234053, 11.20474175],\n",
      "       [ 5.33002283,  1.57194921],\n",
      "       [ 6.82968177,  1.1648714 ],\n",
      "       [-3.35599134,  7.4994389 ],\n",
      "       [-3.34841515,  8.70507375],\n",
      "       [ 5.08369826,  2.74780374],\n",
      "       [-2.3360167 ,  9.39960351],\n",
      "       [-3.29245092,  8.69222461],\n",
      "       [-3.18611962,  9.62596242],\n",
      "       [ 5.21076935,  3.10873532],\n",
      "       [-3.4172217 ,  7.60198243],\n",
      "       [ 4.53111869,  2.37488141],\n",
      "       [ 6.09102244,  2.93244051],\n",
      "       [-1.35060204,  8.19360381],\n",
      "       [ 4.16794697,  3.06212028],\n",
      "       [ 4.68545068,  1.32156934],\n",
      "       [-3.03895783,  9.52755356],\n",
      "       [ 3.12050887,  1.48893561],\n",
      "       [ 4.64512254,  2.02015028],\n",
      "       [-4.23411546,  8.4519986 ],\n",
      "       [ 5.51219947,  2.15651169],\n",
      "       [-2.28173769, 10.32142888],\n",
      "       [-3.39871205,  8.19847584],\n",
      "       [-2.30033403,  7.054616  ],\n",
      "       [-2.25870477,  9.36073434],\n",
      "       [ 3.19179449,  0.56570591],\n",
      "       [ 4.70968092,  1.58785609],\n",
      "       [ 6.27229014,  0.54302831],\n",
      "       [-2.98837186,  8.82862715],\n",
      "       [ 4.9507864 ,  3.4485259 ],\n",
      "       [-1.54582149,  9.42706706],\n",
      "       [ 4.98163481,  3.84934052],\n",
      "       [ 4.32460959,  2.7321389 ],\n",
      "       [ 4.7368748 ,  2.56832671],\n",
      "       [ 4.96404519,  1.84302663],\n",
      "       [-0.62301172,  9.18886394],\n",
      "       [-2.73266041,  9.72828662],\n",
      "       [-3.48387929,  9.80137073],\n",
      "       [-3.6155326 ,  7.8180795 ],\n",
      "       [-1.68713746, 10.91107911],\n",
      "       [-2.4509889 ,  7.87131583],\n",
      "       [ 4.6213657 ,  1.68451105],\n",
      "       [-2.41743685,  7.02671721],\n",
      "       [ 5.15492652,  5.82590117],\n",
      "       [-3.18922234,  9.24653983],\n",
      "       [-3.42862186, 10.56422053],\n",
      "       [ 4.48809374,  2.56148689],\n",
      "       [ 5.81931896,  1.50399403],\n",
      "       [ 4.61897724,  2.09049707],\n",
      "       [-2.21307735,  9.2753414 ],\n",
      "       [ 4.70415886,  0.89542491],\n",
      "       [ 2.92674431,  3.32704206],\n",
      "       [-2.54390939,  7.84560809],\n",
      "       [ 4.19983435,  2.10391026],\n",
      "       [-4.42796884,  8.98777225],\n",
      "       [-3.6601912 ,  9.38998415],\n",
      "       [-2.85191214,  8.21200886],\n",
      "       [ 6.40533308,  2.37815139],\n",
      "       [-2.97867201,  9.55684617],\n",
      "       [ 3.97809237,  2.82560302],\n",
      "       [ 5.79798971,  2.76483238],\n",
      "       [ 4.42219763,  3.07194654],\n",
      "       [-2.72886951,  9.3713987 ],\n",
      "       [-3.74614833,  7.69382952],\n",
      "       [-2.29510388,  7.76854735],\n",
      "       [-2.03596   ,  8.94145722],\n",
      "       [-2.14780202, 10.55232269],\n",
      "       [-2.58120774, 10.01781903],\n",
      "       [ 3.92457513,  2.65276743],\n",
      "       [-2.97261532,  8.54855637],\n",
      "       [ 3.92143461,  1.75972253],\n",
      "       [-2.67048333,  9.41833699],\n",
      "       [-2.743351  ,  8.78014917],\n",
      "       [ 5.32613903,  0.36045381],\n",
      "       [-3.70050112,  9.67083974],\n",
      "       [-2.58629933,  9.3554381 ],\n",
      "       [ 4.05051408,  2.82277178],\n",
      "       [-2.75458574,  8.26054996],\n",
      "       [ 4.71568339,  1.29600797],\n",
      "       [-2.25164723,  8.93984021]]), array([1, 1, 1, 0, 1, 1, 1, 1, 0, 1, 0, 1, 0, 1, 1, 0, 1, 1, 1, 1, 1, 1,\n",
      "       0, 1, 0, 0, 1, 0, 1, 0, 0, 1, 0, 0, 0, 1, 0, 1, 0, 1, 0, 1, 1, 1,\n",
      "       0, 1, 0, 0, 0, 1, 1, 0, 0, 0, 0, 1, 0, 0, 1, 1, 1, 1, 1, 0, 1, 0,\n",
      "       0, 1, 0, 0, 1, 0, 0, 0, 1, 0, 0, 1, 0, 0, 1, 1, 1, 1, 1, 1, 0, 1,\n",
      "       1, 1, 0, 0, 0, 0, 1, 0, 0, 1, 0, 1, 1, 0, 1, 0, 0, 1, 1, 1, 1, 0,\n",
      "       1, 0, 1, 0, 1, 1, 0, 0, 0, 1, 0, 1, 1, 0, 0, 1, 0, 0, 0, 1, 0, 1,\n",
      "       1, 0, 1, 1, 0, 1, 1, 0, 1, 0, 0, 0, 0, 1, 1, 1, 0, 1, 0, 1, 1, 1,\n",
      "       1, 0, 0, 0, 0, 0, 0, 1, 0, 1, 0, 0, 1, 1, 1, 0, 1, 1, 0, 1, 0, 0,\n",
      "       0, 1, 0, 1, 1, 1, 0, 0, 0, 0, 0, 0, 1, 0, 1, 0, 0, 1, 0, 0, 1, 0,\n",
      "       1, 0]))\n"
     ]
    }
   ],
   "source": [
    "class Sigmoid(Operation):\n",
    "    \n",
    "    def __init__(self, z):\n",
    "        super().__init__([z])\n",
    "        \n",
    "    def compute(self, z_val):\n",
    "        return 1 / (1 + np.exp(-z))\n",
    "    \n",
    "\n",
    "data = make_blobs(n_samples=200,n_features=2,centers=2,random_state=42)\n",
    "print(data)\n",
    "\n",
    "\n"
   ]
  },
  {
   "cell_type": "code",
   "execution_count": 37,
   "metadata": {},
   "outputs": [
    {
     "data": {
      "text/plain": [
       "<matplotlib.collections.PathCollection at 0x22501b08710>"
      ]
     },
     "execution_count": 37,
     "metadata": {},
     "output_type": "execute_result"
    },
    {
     "data": {
      "image/png": "[encoded data removed]",
      "text/plain": [
       "<matplotlib.figure.Figure at 0x22501a4d6a0>"
      ]
     },
     "metadata": {},
     "output_type": "display_data"
    }
   ],
   "source": [
    "features = data[0]\n",
    "labels = data[1]\n",
    "\n",
    "plt.scatter(features[:,0], features[:,1], c=labels, cmap='coolwarm')"
   ]
  },
  {
   "cell_type": "code",
   "execution_count": 50,
   "metadata": {},
   "outputs": [
    {
     "data": {
      "text/plain": [
       "[<matplotlib.lines.Line2D at 0x22501f5d5f8>]"
      ]
     },
     "execution_count": 50,
     "metadata": {},
     "output_type": "execute_result"
    },
    {
     "data": {
      "image/png": "[encoded data removed]",
      "text/plain": [
       "<matplotlib.figure.Figure at 0x22501f5d780>"
      ]
     },
     "metadata": {},
     "output_type": "display_data"
    }
   ],
   "source": [
    "x = np.linspace(10,-6,8)\n",
    "y = 0.6 * x + 5\n",
    "\n",
    "plt.scatter(features[:,0], features[:,1], c=labels, cmap='coolwarm')\n",
    "plt.plot(x, y)\n"
   ]
  },
  {
   "cell_type": "code",
   "execution_count": null,
   "metadata": {},
   "outputs": [],
   "source": []
  },
  {
   "cell_type": "code",
   "execution_count": null,
   "metadata": {},
   "outputs": [],
   "source": []
  }
 ],
 "metadata": {
  "kernelspec": {
   "display_name": "Python 3",
   "language": "python",
   "name": "python3"
  },
  "language_info": {
   "codemirror_mode": {
    "name": "ipython",
    "version": 3
   },
   "file_extension": ".py",
   "mimetype": "text/x-python",
   "name": "python",
   "nbconvert_exporter": "python",
   "pygments_lexer": "ipython3",
   "version": "3.6.4"
  }
 },
 "nbformat": 4,
 "nbformat_minor": 2
}
